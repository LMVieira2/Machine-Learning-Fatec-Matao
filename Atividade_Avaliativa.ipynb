{
  "nbformat": 4,
  "nbformat_minor": 0,
  "metadata": {
    "colab": {
      "provenance": [],
      "collapsed_sections": [
        "NmzCKS1R5f_g",
        "8NJOx_126sxB",
        "nuHppH137Smg",
        "hYdBTwI5Kwk6",
        "WqNkCxNoLYnE",
        "OSasbC3pNjlZ"
      ],
      "authorship_tag": "ABX9TyPgU7TW40dWoH5b0Sq7ssGn",
      "include_colab_link": true
    },
    "kernelspec": {
      "name": "python3",
      "display_name": "Python 3"
    },
    "language_info": {
      "name": "python"
    }
  },
  "cells": [
    {
      "cell_type": "markdown",
      "metadata": {
        "id": "view-in-github",
        "colab_type": "text"
      },
      "source": [
        "<a href=\"https://colab.research.google.com/github/LMVieira2/Machine-Learning-Fatec-Matao/blob/main/Atividade_Avaliativa.ipynb\" target=\"_parent\"><img src=\"https://colab.research.google.com/assets/colab-badge.svg\" alt=\"Open In Colab\"/></a>"
      ]
    },
    {
      "cell_type": "markdown",
      "source": [
        "# Atividade Avaliativa Lucas Malachias Vieira"
      ],
      "metadata": {
        "id": "bFjkO4umK1u3"
      }
    },
    {
      "cell_type": "markdown",
      "source": [
        "# 1.O alerta de incendio na biblioteca\n"
      ],
      "metadata": {
        "id": "NmzCKS1R5f_g"
      }
    },
    {
      "cell_type": "code",
      "source": [
        "P_incendio = 0.005\n",
        "P_nao_incendio = 1 - P_incendio\n",
        "\n",
        "P_alarme_dado_incendio = 0.95\n",
        "P_alarme_dado_nao_incendio = 0.03\n",
        "\n",
        "P_alarme = (P_alarme_dado_incendio * P_incendio) + (P_alarme_dado_nao_incendio * P_nao_incendio)\n",
        "\n",
        "P_incendio_dado_alarme = (P_alarme_dado_incendio * P_incendio) / P_alarme\n",
        "\n",
        "print(f\"Probabilidade de realmente haver incêndio dado que o alarme tocou: {P_incendio_dado_alarme:.4f} ou {P_incendio_dado_alarme * 100:.2f}%\")"
      ],
      "metadata": {
        "colab": {
          "base_uri": "https://localhost:8080/"
        },
        "id": "zsZM1yGLAFzn",
        "outputId": "bb730607-3a8c-4d4c-a8b4-fe9d7d463281"
      },
      "execution_count": 31,
      "outputs": [
        {
          "output_type": "stream",
          "name": "stdout",
          "text": [
            "Probabilidade de realmente haver incêndio dado que o alarme tocou: 0.1373 ou 13.73%\n"
          ]
        }
      ]
    },
    {
      "cell_type": "markdown",
      "source": [
        "# 2.Teste anti-doping no Atletismo"
      ],
      "metadata": {
        "id": "8NJOx_126sxB"
      }
    },
    {
      "cell_type": "code",
      "source": [
        "P_doping = 0.02\n",
        "P_nao_doping = 1 - P_doping\n",
        "\n",
        "P_positivo_dado_doping = 0.98\n",
        "P_positivo_dado_nao_doping = 0.05\n",
        "\n",
        "P_positivo = (P_positivo_dado_doping * P_doping) + (P_positivo_dado_nao_doping * P_nao_doping)\n",
        "\n",
        "P_doping_dado_positivo = (P_positivo_dado_doping * P_doping) / P_positivo\n",
        "\n",
        "print(f\"Probabilidade de doping dado teste positivo: {P_doping_dado_positivo:.4f} ou {P_doping_dado_positivo * 100:.2f}%\")"
      ],
      "metadata": {
        "colab": {
          "base_uri": "https://localhost:8080/"
        },
        "id": "i6xSrmfGCiJk",
        "outputId": "f70ba4ec-fcfb-43c3-838c-b425ee012042"
      },
      "execution_count": 37,
      "outputs": [
        {
          "output_type": "stream",
          "name": "stdout",
          "text": [
            "Probabilidade de doping dado teste positivo: 0.2857 ou 28.57%\n"
          ]
        }
      ]
    },
    {
      "cell_type": "markdown",
      "source": [
        "# 3.Identificaçao de fraudes em cartão de crédito"
      ],
      "metadata": {
        "id": "nuHppH137Smg"
      }
    },
    {
      "cell_type": "code",
      "source": [
        "P_fraude = 0.001\n",
        "P_nao_fraude = 1 - P_fraude\n",
        "\n",
        "P_positivo_dado_fraude = 0.99\n",
        "P_positivo_dado_nao_fraude = 0.02\n",
        "\n",
        "P_positivo = (P_positivo_dado_fraude * P_fraude) + (P_positivo_dado_nao_fraude * P_nao_fraude)\n",
        "\n",
        "P_fraude_dado_positivo = (P_positivo_dado_fraude * P_fraude) / P_positivo\n",
        "\n",
        "print(f\"Probabilidade de fraude dado teste positivo: {P_fraude_dado_positivo:.4f} ou {P_fraude_dado_positivo * 100:.2f}%\")"
      ],
      "metadata": {
        "colab": {
          "base_uri": "https://localhost:8080/"
        },
        "id": "_49j3L4CJ_lC",
        "outputId": "485766b2-d1f6-4391-eee2-dba90821fdda"
      },
      "execution_count": 41,
      "outputs": [
        {
          "output_type": "stream",
          "name": "stdout",
          "text": [
            "Probabilidade de fraude dado teste positivo: 0.0472 ou 4.72%\n"
          ]
        }
      ]
    },
    {
      "cell_type": "markdown",
      "source": [
        "# 4.Diagnostico de uma doença rara\n"
      ],
      "metadata": {
        "id": "hYdBTwI5Kwk6"
      }
    },
    {
      "cell_type": "code",
      "source": [
        "P_doenca = 0.0005\n",
        "P_nao_doenca = 1 - P_doenca\n",
        "\n",
        "P_positivo_dado_doenca = 0.97\n",
        "P_positivo_dado_nao_doenca = 0.04\n",
        "\n",
        "P_positivo = (P_positivo_dado_doenca * P_doenca) + (P_positivo_dado_nao_doenca * P_nao_doenca)\n",
        "\n",
        "P_dado_positivo = (P_positivo_dado_doenca * P_doenca) / P_positivo\n",
        "\n",
        "print(f\"Probabilidade de doença dado teste positivo: {P_dado_positivo:.4f} ou {P_dado_positivo * 100:.2f}%\")"
      ],
      "metadata": {
        "colab": {
          "base_uri": "https://localhost:8080/"
        },
        "id": "CL12v37OKyZZ",
        "outputId": "6b759268-9e65-4934-a325-d4472f9be8b3"
      },
      "execution_count": 44,
      "outputs": [
        {
          "output_type": "stream",
          "name": "stdout",
          "text": [
            "Probabilidade de doença dado teste positivo: 0.0120 ou 1.20%\n"
          ]
        }
      ]
    },
    {
      "cell_type": "markdown",
      "source": [
        "# 5.Deteccao de Malware em arquivos\n"
      ],
      "metadata": {
        "id": "WqNkCxNoLYnE"
      }
    },
    {
      "cell_type": "code",
      "source": [
        "P_mal = 0.003\n",
        "P_nao_mal = 1 - P_mal\n",
        "\n",
        "P_positivo_dado_mal = 0.96\n",
        "P_positivo_dado_nao_mal = 0.015\n",
        "\n",
        "P_positivo = (P_positivo_dado_mal * P_mal) + (P_positivo_dado_nao_mal * P_nao_mal)\n",
        "\n",
        "P_dado_positivo = (P_positivo_dado_mal * P_mal) / P_positivo\n",
        "\n",
        "print(f\"Probabilidade de Malware dado teste positivo: {P_dado_positivo:.4f} ou {P_dado_positivo * 100:.2f}%\")"
      ],
      "metadata": {
        "colab": {
          "base_uri": "https://localhost:8080/"
        },
        "id": "iqSdGAe3LdZY",
        "outputId": "26c1c6db-ebae-4d25-f1d0-e681c0b2f35c"
      },
      "execution_count": 43,
      "outputs": [
        {
          "output_type": "stream",
          "name": "stdout",
          "text": [
            "Probabilidade de Malware dado teste positivo: 0.1615 ou 16.15%\n"
          ]
        }
      ]
    },
    {
      "cell_type": "markdown",
      "source": [
        "# 6.Identificacao de motoristas embriagados"
      ],
      "metadata": {
        "id": "0_IJg1VyMCKj"
      }
    },
    {
      "cell_type": "code",
      "source": [
        "P_bebado = 0.04\n",
        "P_nao = 1 - P_bebado\n",
        "\n",
        "P_positivo_dado_bebado = 0.92\n",
        "P_positivo_dado_nao_bebado = 0.07\n",
        "\n",
        "P_positivo = (P_positivo_dado_bebado * P_bebado) + (P_positivo_dado_nao_bebado * P_nao)\n",
        "\n",
        "P_dado_positivo = (P_positivo_dado_bebado * P_bebado) / P_positivo\n",
        "\n",
        "print(f\"Probabilidade de embriaguez dado teste positivo: {P_dado_positivo:.4f} ou {P_dado_positivo * 100:.2f}%\")"
      ],
      "metadata": {
        "colab": {
          "base_uri": "https://localhost:8080/"
        },
        "id": "jvMHzxetMJ9u",
        "outputId": "e9e9309f-0ca3-4161-e575-d94326fbb214"
      },
      "execution_count": 45,
      "outputs": [
        {
          "output_type": "stream",
          "name": "stdout",
          "text": [
            "Probabilidade de embriaguez dado teste positivo: 0.3538 ou 35.38%\n"
          ]
        }
      ]
    },
    {
      "cell_type": "markdown",
      "source": [
        "# 7.Teste de eficiencia de uma nova vacina"
      ],
      "metadata": {
        "id": "OSasbC3pNjlZ"
      }
    },
    {
      "cell_type": "code",
      "source": [
        "P_infectado = 0.02\n",
        "P_nao = 1 - P_infectado\n",
        "\n",
        "P_positivo_dado = 0.98\n",
        "P_positivo_nao_dado = 0.03\n",
        "\n",
        "P_positivo = (P_positivo_dado * P_infectado) + (P_positivo_nao_dado * P_nao)\n",
        "\n",
        "P_dado_positivo = (P_positivo_dado * P_infectado) / P_positivo\n",
        "\n",
        "print(f\"Probabilidade de infectado dado teste positivo: {P_dado_positivo:.4f} ou {P_dado_positivo * 100:.2f}%\")"
      ],
      "metadata": {
        "colab": {
          "base_uri": "https://localhost:8080/"
        },
        "id": "i9MA-AuoNqj5",
        "outputId": "3c036894-a318-4f84-c564-007ae7ceb7d6"
      },
      "execution_count": 46,
      "outputs": [
        {
          "output_type": "stream",
          "name": "stdout",
          "text": [
            "Probabilidade de infectado dado teste positivo: 0.4000 ou 40.00%\n"
          ]
        }
      ]
    },
    {
      "cell_type": "markdown",
      "source": [
        "# 8.Alarme de roubo em uma loja\n"
      ],
      "metadata": {
        "id": "tcBAQ9cDOuWN"
      }
    },
    {
      "cell_type": "code",
      "source": [
        "P_roubo = 0.007\n",
        "P_nao = 1 - P_roubo\n",
        "\n",
        "P_positivo_dado = 0.94\n",
        "P_positivo_falso_dado = 0.04\n",
        "\n",
        "P_positivo = (P_positivo_dado * P_roubo) + (P_positivo_falso_dado * P_nao)\n",
        "\n",
        "P_dado_positivo = (P_positivo_dado * P_roubo) / P_positivo\n",
        "\n",
        "print(f\"Probabilidade de roubo dado teste positivo: {P_dado_positivo:.4f} ou {P_dado_positivo * 100:.2f}%\")"
      ],
      "metadata": {
        "colab": {
          "base_uri": "https://localhost:8080/"
        },
        "id": "OLt2e-wxOyBM",
        "outputId": "0abd116d-3fa4-4cd2-abd1-c359b7084099"
      },
      "execution_count": 47,
      "outputs": [
        {
          "output_type": "stream",
          "name": "stdout",
          "text": [
            "Probabilidade de roubo dado teste positivo: 0.1421 ou 14.21%\n"
          ]
        }
      ]
    },
    {
      "cell_type": "markdown",
      "source": [
        "# 9.Teste de contaminação na água"
      ],
      "metadata": {
        "id": "Pquklm_dPAcR"
      }
    },
    {
      "cell_type": "code",
      "source": [
        "P_caso = 0.015\n",
        "P_nao = 1 - P_caso\n",
        "\n",
        "P_positivo_dado = 0.98\n",
        "P_positivo_falso_dado = 0.02\n",
        "\n",
        "P_positivo = (P_positivo_dado * P_caso) + (P_positivo_falso_dado * P_nao)\n",
        "\n",
        "P_dado_positivo = (P_positivo_dado * P_caso) / P_positivo\n",
        "\n",
        "print(f\"Probabilidade de contaminação dado teste positivo: {P_dado_positivo:.4f} ou {P_dado_positivo * 100:.2f}%\")"
      ],
      "metadata": {
        "colab": {
          "base_uri": "https://localhost:8080/"
        },
        "id": "9hbPTAPmPGqD",
        "outputId": "77ad732d-e241-4e32-d5f1-d47648144e6a"
      },
      "execution_count": 49,
      "outputs": [
        {
          "output_type": "stream",
          "name": "stdout",
          "text": [
            "Probabilidade de contaminação dado teste positivo: 0.4273 ou 42.73%\n"
          ]
        }
      ]
    },
    {
      "cell_type": "markdown",
      "source": [
        "# 10.Inspeção de qualidade em uma fabrica"
      ],
      "metadata": {
        "id": "sAwfa11SPT4J"
      }
    },
    {
      "cell_type": "code",
      "source": [
        "P_caso = 0.008\n",
        "P_nao = 1 - P_caso\n",
        "\n",
        "P_positivo_dado = 0.95\n",
        "P_positivo_falso_dado = 0.03\n",
        "\n",
        "P_positivo = (P_positivo_dado * P_caso) + (P_positivo_falso_dado * P_nao)\n",
        "\n",
        "P_dado_positivo = (P_positivo_dado * P_caso) / P_positivo\n",
        "\n",
        "print(f\"Probabilidade de defeito dado teste positivo: {P_dado_positivo:.4f} ou {P_dado_positivo * 100:.2f}%\")"
      ],
      "metadata": {
        "colab": {
          "base_uri": "https://localhost:8080/"
        },
        "id": "j6NqQPqFPXY6",
        "outputId": "a80e038b-962b-498c-dc19-1d7e70c58a52"
      },
      "execution_count": 50,
      "outputs": [
        {
          "output_type": "stream",
          "name": "stdout",
          "text": [
            "Probabilidade de defeito dado teste positivo: 0.2034 ou 20.34%\n"
          ]
        }
      ]
    },
    {
      "cell_type": "markdown",
      "source": [
        "# 11.Triagem de candidatos em uma entrevista"
      ],
      "metadata": {
        "id": "Q_p-OISlPsU6"
      }
    },
    {
      "cell_type": "code",
      "source": [
        "P_caso = 0.05\n",
        "P_nao = 1 - P_caso\n",
        "\n",
        "P_positivo_dado = 0.90\n",
        "P_positivo_falso_dado = 0.08\n",
        "\n",
        "P_positivo = (P_positivo_dado * P_caso) + (P_positivo_falso_dado * P_nao)\n",
        "\n",
        "P_dado_positivo = (P_positivo_dado * P_caso) / P_positivo\n",
        "\n",
        "print(f\"Probabilidade de adequação dado teste positivo: {P_dado_positivo:.4f} ou {P_dado_positivo * 100:.2f}%\")"
      ],
      "metadata": {
        "colab": {
          "base_uri": "https://localhost:8080/"
        },
        "id": "ZoDC3-CiPxA7",
        "outputId": "7f7f5b46-b554-4a92-f5d4-23a76b427990"
      },
      "execution_count": 51,
      "outputs": [
        {
          "output_type": "stream",
          "name": "stdout",
          "text": [
            "Probabilidade de adequação dado teste positivo: 0.3719 ou 37.19%\n"
          ]
        }
      ]
    },
    {
      "cell_type": "markdown",
      "source": [
        "# 12.Detector de Spam"
      ],
      "metadata": {
        "id": "qdCK1fmUP544"
      }
    },
    {
      "cell_type": "code",
      "source": [
        "P_caso = 0.15\n",
        "P_nao = 1 - P_caso\n",
        "\n",
        "P_positivo_dado = 0.96\n",
        "P_positivo_falso_dado = 0.05\n",
        "\n",
        "P_positivo = (P_positivo_dado * P_caso) + (P_positivo_falso_dado * P_nao)\n",
        "\n",
        "P_dado_positivo = (P_positivo_dado * P_caso) / P_positivo\n",
        "\n",
        "print(f\"Probabilidade de Spam dado teste positivo: {P_dado_positivo:.4f} ou {P_dado_positivo * 100:.2f}%\")"
      ],
      "metadata": {
        "colab": {
          "base_uri": "https://localhost:8080/"
        },
        "id": "-4vRsXZJP84-",
        "outputId": "edc1f07f-a173-4511-8ef2-cc805364f680"
      },
      "execution_count": 52,
      "outputs": [
        {
          "output_type": "stream",
          "name": "stdout",
          "text": [
            "Probabilidade de Spam dado teste positivo: 0.7721 ou 77.21%\n"
          ]
        }
      ]
    },
    {
      "cell_type": "markdown",
      "source": [
        "# 13.Reconhecimento facial em aeroportos"
      ],
      "metadata": {
        "id": "Pb1xZ0kJQHjv"
      }
    },
    {
      "cell_type": "code",
      "source": [
        "P_caso = 0.002\n",
        "P_nao = 1 - P_caso\n",
        "\n",
        "P_positivo_dado = 0.99\n",
        "P_positivo_falso_dado = 0.01\n",
        "\n",
        "P_positivo = (P_positivo_dado * P_caso) + (P_positivo_falso_dado * P_nao)\n",
        "\n",
        "P_dado_positivo = (P_positivo_dado * P_caso) / P_positivo\n",
        "\n",
        "print(f\"Probabilidade de procurados dado teste positivo: {P_dado_positivo:.4f} ou {P_dado_positivo * 100:.2f}%\")"
      ],
      "metadata": {
        "colab": {
          "base_uri": "https://localhost:8080/"
        },
        "id": "YVWPOO0eQNqt",
        "outputId": "63f16f73-5b82-43a5-a038-d1af8354eabf"
      },
      "execution_count": 55,
      "outputs": [
        {
          "output_type": "stream",
          "name": "stdout",
          "text": [
            "Probabilidade de procurados dado teste positivo: 0.1656 ou 16.56%\n"
          ]
        }
      ]
    },
    {
      "cell_type": "markdown",
      "source": [
        "# 14.Teste de fidelidade em programas de beneficios"
      ],
      "metadata": {
        "id": "OOvEaGQUQph7"
      }
    },
    {
      "cell_type": "code",
      "source": [
        "P_caso = 0.10\n",
        "P_nao = 1 - P_caso\n",
        "\n",
        "P_positivo_dado = 0.95\n",
        "P_positivo_falso_dado = 0.07\n",
        "\n",
        "P_positivo = (P_positivo_dado * P_caso) + (P_positivo_falso_dado * P_nao)\n",
        "\n",
        "P_dado_positivo = (P_positivo_dado * P_caso) / P_positivo\n",
        "\n",
        "print(f\"Probabilidade de fieis dado teste positivo: {P_dado_positivo:.4f} ou {P_dado_positivo * 100:.2f}%\")"
      ],
      "metadata": {
        "colab": {
          "base_uri": "https://localhost:8080/"
        },
        "id": "_-57NSsXQ3sG",
        "outputId": "802c88b5-f990-4a63-a891-3e4d9dba53bb"
      },
      "execution_count": 56,
      "outputs": [
        {
          "output_type": "stream",
          "name": "stdout",
          "text": [
            "Probabilidade de fieis dado teste positivo: 0.6013 ou 60.13%\n"
          ]
        }
      ]
    },
    {
      "cell_type": "markdown",
      "source": [
        "# 15.Sensor de qualidade do ar"
      ],
      "metadata": {
        "id": "VnBpY9VRREZv"
      }
    },
    {
      "cell_type": "code",
      "source": [
        "P_caso = 0.02\n",
        "P_nao = 1 - P_caso\n",
        "\n",
        "P_positivo_dado = 0.97\n",
        "P_positivo_falso_dado = 0.03\n",
        "\n",
        "P_positivo = (P_positivo_dado * P_caso) + (P_positivo_falso_dado * P_nao)\n",
        "\n",
        "P_dado_positivo = (P_positivo_dado * P_caso) / P_positivo\n",
        "\n",
        "print(f\"Probabilidade de alta poluição dado teste positivo: {P_dado_positivo:.4f} ou {P_dado_positivo * 100:.2f}%\")"
      ],
      "metadata": {
        "colab": {
          "base_uri": "https://localhost:8080/"
        },
        "id": "EG2MfSOXRH-I",
        "outputId": "87cb7433-cc34-4e49-ef61-8b55ad2f48fd"
      },
      "execution_count": 57,
      "outputs": [
        {
          "output_type": "stream",
          "name": "stdout",
          "text": [
            "Probabilidade de alta poluição dado teste positivo: 0.3975 ou 39.75%\n"
          ]
        }
      ]
    }
  ]
}