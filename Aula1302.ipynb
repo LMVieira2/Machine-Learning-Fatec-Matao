{
  "nbformat": 4,
  "nbformat_minor": 0,
  "metadata": {
    "colab": {
      "provenance": [],
      "toc_visible": true,
      "authorship_tag": "ABX9TyNLYQZYqVdcuHq6Jxe6NiW0",
      "include_colab_link": true
    },
    "kernelspec": {
      "name": "python3",
      "display_name": "Python 3"
    },
    "language_info": {
      "name": "python"
    }
  },
  "cells": [
    {
      "cell_type": "markdown",
      "metadata": {
        "id": "view-in-github",
        "colab_type": "text"
      },
      "source": [
        "<a href=\"https://colab.research.google.com/github/LMVieira2/Machine-Learning-Fatec-Matao/blob/main/Aula1302.ipynb\" target=\"_parent\"><img src=\"https://colab.research.google.com/assets/colab-badge.svg\" alt=\"Open In Colab\"/></a>"
      ]
    },
    {
      "cell_type": "markdown",
      "source": [
        "# Importação de bibliotecas"
      ],
      "metadata": {
        "id": "GKQk7FDcpGDS"
      }
    },
    {
      "cell_type": "markdown",
      "source": [
        "## Documentação do Python [https://docs.python.org/pt-br/3/]"
      ],
      "metadata": {
        "id": "z9hjKsiOrDih"
      }
    },
    {
      "cell_type": "markdown",
      "source": [
        "## Aprendizado\n"
      ],
      "metadata": {
        "id": "YiNcg_IfpxQi"
      }
    },
    {
      "cell_type": "code",
      "source": [
        "n1=5\n",
        "n2=4\n",
        "if n1>n2:\n",
        "    print('n1 é maior que n2')\n",
        "else:\n",
        "    print('n2 é maior que n1')"
      ],
      "metadata": {
        "id": "vAzdKmpUqUX6",
        "colab": {
          "base_uri": "https://localhost:8080/"
        },
        "outputId": "09245d3a-a50a-4005-de95-be0499654590"
      },
      "execution_count": 2,
      "outputs": [
        {
          "output_type": "stream",
          "name": "stdout",
          "text": [
            "n1 é maior que n2\n"
          ]
        }
      ]
    },
    {
      "cell_type": "code",
      "source": [
        "lista_frutas = ['maçã', 'uva', 'larajna']\n",
        "print(lista_frutas)\n",
        "print(lista_frutas[0])"
      ],
      "metadata": {
        "id": "0a9BI9pcqTuH",
        "colab": {
          "base_uri": "https://localhost:8080/"
        },
        "outputId": "5e7ca2a4-c41b-4ca4-b20c-511bc0a02527"
      },
      "execution_count": 4,
      "outputs": [
        {
          "output_type": "stream",
          "name": "stdout",
          "text": [
            "['maçã', 'uva', 'larajna']\n",
            "maçã\n"
          ]
        }
      ]
    },
    {
      "cell_type": "code",
      "source": [
        "lista_frutas = ['maçã', 'uva', 'larajna']\n",
        "for fruta in lista_frutas:\n",
        "    print(fruta)"
      ],
      "metadata": {
        "colab": {
          "base_uri": "https://localhost:8080/"
        },
        "id": "foWghCOV1ZK4",
        "outputId": "ecea49e1-1e6a-4b22-89e4-cc4d4f14bd1b"
      },
      "execution_count": 5,
      "outputs": [
        {
          "output_type": "stream",
          "name": "stdout",
          "text": [
            "maçã\n",
            "uva\n",
            "larajna\n"
          ]
        }
      ]
    }
  ]
}