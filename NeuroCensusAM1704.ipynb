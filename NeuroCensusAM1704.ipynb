{
  "nbformat": 4,
  "nbformat_minor": 0,
  "metadata": {
    "colab": {
      "provenance": [],
      "authorship_tag": "ABX9TyOqcwSKvHyOwcSMFR0LmGv9",
      "include_colab_link": true
    },
    "kernelspec": {
      "name": "python3",
      "display_name": "Python 3"
    },
    "language_info": {
      "name": "python"
    }
  },
  "cells": [
    {
      "cell_type": "markdown",
      "metadata": {
        "id": "view-in-github",
        "colab_type": "text"
      },
      "source": [
        "<a href=\"https://colab.research.google.com/github/LMVieira2/Machine-Learning-Fatec-Matao/blob/main/NeuroCensusAM1704.ipynb\" target=\"_parent\"><img src=\"https://colab.research.google.com/assets/colab-badge.svg\" alt=\"Open In Colab\"/></a>"
      ]
    },
    {
      "cell_type": "markdown",
      "source": [
        "# Bibliotecas PIP e Local Libs"
      ],
      "metadata": {
        "id": "gWMZH-vsRttc"
      }
    },
    {
      "cell_type": "code",
      "source": [
        "!pip -q install plotly\n",
        "!pip -q install yellowbrick\n",
        "!pip -q install shap\n",
        "!pip -q install scikit-plot"
      ],
      "metadata": {
        "id": "-dra5UbjRvvi"
      },
      "execution_count": 1,
      "outputs": []
    },
    {
      "cell_type": "code",
      "source": [
        "import pandas as pd\n",
        "import numpy as np\n",
        "import seaborn as sns\n",
        "import matplotlib.pyplot as plt\n",
        "import plotly.express as px\n",
        "import pickle"
      ],
      "metadata": {
        "id": "3lXxH2vuRx24"
      },
      "execution_count": 2,
      "outputs": []
    },
    {
      "cell_type": "markdown",
      "source": [
        "# Carregamento da Base de Dados"
      ],
      "metadata": {
        "id": "oqN0gwPwRymp"
      }
    },
    {
      "cell_type": "code",
      "source": [
        "from google.colab import drive\n",
        "drive.mount('/content/drive')"
      ],
      "metadata": {
        "colab": {
          "base_uri": "https://localhost:8080/"
        },
        "id": "it8M-Z6rR42A",
        "outputId": "09409cdf-165e-4ae8-e938-362cbb457c86"
      },
      "execution_count": 3,
      "outputs": [
        {
          "output_type": "stream",
          "name": "stdout",
          "text": [
            "Mounted at /content/drive\n"
          ]
        }
      ]
    },
    {
      "cell_type": "markdown",
      "source": [
        "# Neuronio Baysidiano com Preditores Categóricos"
      ],
      "metadata": {
        "id": "79BPZghGSoaO"
      }
    },
    {
      "cell_type": "code",
      "source": [
        "from sklearn.naive_bayes import GaussianNB"
      ],
      "metadata": {
        "id": "LLim7CrZSk2H"
      },
      "execution_count": 4,
      "outputs": []
    },
    {
      "cell_type": "code",
      "source": [
        "with open('/content/drive/MyDrive/am5t2/Pickle/census.pkl', mode = 'rb') as f:\n",
        "  X_census_treinamento, X_census_teste, Y_census_treinamento, Y_census_teste = pickle.load(f)"
      ],
      "metadata": {
        "id": "XdzywBMrTL4T"
      },
      "execution_count": 5,
      "outputs": []
    },
    {
      "cell_type": "code",
      "source": [
        "X_census_treinamento.shape, Y_census_treinamento.shape"
      ],
      "metadata": {
        "colab": {
          "base_uri": "https://localhost:8080/"
        },
        "id": "ZVeEGuLrTPVC",
        "outputId": "dc17b4c5-9564-4ac8-92df-82f0c368695a"
      },
      "execution_count": 6,
      "outputs": [
        {
          "output_type": "execute_result",
          "data": {
            "text/plain": [
              "((24420, 108), (24420,))"
            ]
          },
          "metadata": {},
          "execution_count": 6
        }
      ]
    },
    {
      "cell_type": "markdown",
      "source": [
        "# Treinamento do Neurônio"
      ],
      "metadata": {
        "id": "3VH26IfuYEkP"
      }
    },
    {
      "cell_type": "code",
      "source": [
        "naive_census = GaussianNB()\n",
        "naive_census.fit(X_census_treinamento, Y_census_treinamento)\n",
        "census_previsores = naive_census.predict(X_census_teste)\n",
        "census_previsores"
      ],
      "metadata": {
        "colab": {
          "base_uri": "https://localhost:8080/"
        },
        "id": "61UcFZ-JYLhD",
        "outputId": "29fd62fb-51a9-4a09-c25e-0750521d910f"
      },
      "execution_count": 7,
      "outputs": [
        {
          "output_type": "execute_result",
          "data": {
            "text/plain": [
              "array([' <=50K', ' <=50K', ' <=50K', ..., ' <=50K', ' <=50K', ' <=50K'],\n",
              "      dtype='<U6')"
            ]
          },
          "metadata": {},
          "execution_count": 7
        }
      ]
    },
    {
      "cell_type": "code",
      "source": [
        "from sklearn.metrics import accuracy_score, confusion_matrix, classification_report\n",
        "from yellowbrick.classifier import ConfusionMatrix"
      ],
      "metadata": {
        "id": "GOCOtSMqYtBE"
      },
      "execution_count": 8,
      "outputs": []
    },
    {
      "cell_type": "code",
      "source": [
        "census_acuracia_g = accuracy_score(Y_census_teste, census_previsores)"
      ],
      "metadata": {
        "id": "rQDUbQCpZBkK"
      },
      "execution_count": 9,
      "outputs": []
    },
    {
      "cell_type": "code",
      "source": [
        "print('P(A) = ', census_acuracia_g *100, '%')"
      ],
      "metadata": {
        "colab": {
          "base_uri": "https://localhost:8080/"
        },
        "id": "cO4q_bpjZMOD",
        "outputId": "ee53021b-14cd-4659-c212-48006b5a72e2"
      },
      "execution_count": 10,
      "outputs": [
        {
          "output_type": "stream",
          "name": "stdout",
          "text": [
            "P(A) =  79.49883306719076 %\n"
          ]
        }
      ]
    }
  ]
}